{
  "nbformat": 4,
  "nbformat_minor": 0,
  "metadata": {
    "colab": {
      "provenance": []
    },
    "kernelspec": {
      "name": "python3",
      "display_name": "Python 3"
    },
    "language_info": {
      "name": "python"
    }
  },
  "cells": [
    {
      "cell_type": "markdown",
      "source": [
        "#### Install Required Packages"
      ],
      "metadata": {
        "id": "69M3yGTsaSrK"
      }
    },
    {
      "cell_type": "code",
      "execution_count": 2,
      "metadata": {
        "colab": {
          "base_uri": "https://localhost:8080/"
        },
        "id": "xn9wo5RfSLAD",
        "outputId": "1bc38ae9-4d15-4e16-9a29-2c5862378fc1"
      },
      "outputs": [
        {
          "output_type": "stream",
          "name": "stdout",
          "text": [
            "Collecting feedparser\n",
            "  Downloading feedparser-6.0.11-py3-none-any.whl (81 kB)\n",
            "\u001b[?25l     \u001b[90m━━━━━━━━━━━━━━━━━━━━━━━━━━━━━━━━━━━━━━━━\u001b[0m \u001b[32m0.0/81.3 kB\u001b[0m \u001b[31m?\u001b[0m eta \u001b[36m-:--:--\u001b[0m\r\u001b[2K     \u001b[90m━━━━━━━━━━━━━━━━━━━━━━━━━━━━━━━━━━━━━━━━\u001b[0m \u001b[32m81.3/81.3 kB\u001b[0m \u001b[31m2.6 MB/s\u001b[0m eta \u001b[36m0:00:00\u001b[0m\n",
            "\u001b[?25hCollecting sgmllib3k (from feedparser)\n",
            "  Downloading sgmllib3k-1.0.0.tar.gz (5.8 kB)\n",
            "  Preparing metadata (setup.py) ... \u001b[?25l\u001b[?25hdone\n",
            "Building wheels for collected packages: sgmllib3k\n",
            "  Building wheel for sgmllib3k (setup.py) ... \u001b[?25l\u001b[?25hdone\n",
            "  Created wheel for sgmllib3k: filename=sgmllib3k-1.0.0-py3-none-any.whl size=6048 sha256=1ab534f3447f8191aa9d6903ba694cd0c214a330a8c03f718eac1ab44d7c4bee\n",
            "  Stored in directory: /root/.cache/pip/wheels/f0/69/93/a47e9d621be168e9e33c7ce60524393c0b92ae83cf6c6e89c5\n",
            "Successfully built sgmllib3k\n",
            "Installing collected packages: sgmllib3k, feedparser\n",
            "Successfully installed feedparser-6.0.11 sgmllib3k-1.0.0\n"
          ]
        }
      ],
      "source": [
        "!pip install feedparser # Installs the required packages\n",
        "import feedparser"
      ]
    },
    {
      "cell_type": "markdown",
      "source": [
        "#### Code to Parse The Feed"
      ],
      "metadata": {
        "id": "381liY97agDr"
      }
    },
    {
      "cell_type": "code",
      "source": [
        "# URL of the RSS feed\n",
        "feed_url = \"https://ecelluiet.substack.com/feed\"\n",
        "\n",
        "# Parse the RSS feed\n",
        "feed = feedparser.parse(feed_url)\n",
        "\n",
        "# Check if the feed has entries\n",
        "if feed.entries:\n",
        "    first_item = feed.entries[0]\n",
        "\n",
        "    # Extracting details from the first item\n",
        "    title = first_item.title if 'title' in first_item else 'No title'\n",
        "    description = first_item.description if 'description' in first_item else 'No description'\n",
        "    link = first_item.link if 'link' in first_item else 'No link'\n",
        "    content = first_item.content[0].value if 'content' in first_item and first_item.content else 'No content'\n",
        "\n",
        "# title, description, link, content\n"
      ],
      "metadata": {
        "id": "WrzfTLx3SiWN"
      },
      "execution_count": 3,
      "outputs": []
    },
    {
      "cell_type": "markdown",
      "source": [
        "#### Saving to a Markdown File"
      ],
      "metadata": {
        "id": "a_AqDJ80a-Cs"
      }
    },
    {
      "cell_type": "code",
      "source": [
        "import time\n",
        "from tqdm import tqdm\n",
        "# File name for the Markdown file\n",
        "markdown_file = \"output.md\"\n",
        "\n",
        "# Open the file in write mode\n",
        "with open(markdown_file, 'w') as file:\n",
        "    # Writing data to the file in Markdown format\n",
        "    file.write(f\"# {title}\\n\\n\")  # Title in H1\n",
        "    file.write(f\"**Description:** {description}\\n\\n\")  # Description in bold\n",
        "    file.write(f\"[Link]({link})\\n\\n\")  # Hyperlink\n",
        "    file.write(\"## Content\\n\")  # Content Header\n",
        "    file.write(f\"{content}\\n\")  # Content\n",
        "\n",
        "# Duration of your sleep, in seconds\n",
        "sleep_duration = 30\n",
        "\n",
        "# Using tqdm to show a progress bar\n",
        "for _ in tqdm(range(sleep_duration), desc=\"Ensuring Generation of File\"):\n",
        "    time.sleep(1)  # Sleep for 1 second at a time\n",
        "\n",
        "print(f\"Data written to {markdown_file}\")"
      ],
      "metadata": {
        "colab": {
          "base_uri": "https://localhost:8080/"
        },
        "id": "xW4ux1QJa7ix",
        "outputId": "972c34b0-6ce0-4ef5-c45b-e0328c189342"
      },
      "execution_count": 7,
      "outputs": [
        {
          "output_type": "stream",
          "name": "stderr",
          "text": [
            "Ensuring Generation of File: 100%|██████████| 30/30 [00:30<00:00,  1.00s/it]"
          ]
        },
        {
          "output_type": "stream",
          "name": "stdout",
          "text": [
            "Data written to output.md\n"
          ]
        },
        {
          "output_type": "stream",
          "name": "stderr",
          "text": [
            "\n"
          ]
        }
      ]
    }
  ]
}